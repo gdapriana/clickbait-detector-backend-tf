{
 "cells": [
  {
   "cell_type": "code",
   "id": "initial_id",
   "metadata": {
    "collapsed": true,
    "ExecuteTime": {
     "end_time": "2024-11-25T05:38:17.315015Z",
     "start_time": "2024-11-25T05:38:17.171688Z"
    }
   },
   "source": "from joblib import load",
   "outputs": [],
   "execution_count": 1
  },
  {
   "metadata": {
    "ExecuteTime": {
     "end_time": "2024-11-25T05:38:48.997179Z",
     "start_time": "2024-11-25T05:38:48.325510Z"
    }
   },
   "cell_type": "code",
   "source": "loaded_vectorizer_joblib = load('tfidf.joblib')\n",
   "id": "fbcb5729c47b4a73",
   "outputs": [],
   "execution_count": 3
  },
  {
   "metadata": {
    "ExecuteTime": {
     "end_time": "2024-11-25T05:38:58.259547Z",
     "start_time": "2024-11-25T05:38:58.255285Z"
    }
   },
   "cell_type": "code",
   "source": [
    "new_documents = [\n",
    "  \"This is a new document.\",\n",
    "  \"This document is different from the others.\"\n",
    "]"
   ],
   "id": "459b65d5baca32df",
   "outputs": [],
   "execution_count": 4
  },
  {
   "metadata": {
    "ExecuteTime": {
     "end_time": "2024-11-25T05:39:10.119454Z",
     "start_time": "2024-11-25T05:39:10.110383Z"
    }
   },
   "cell_type": "code",
   "source": "X_new_joblib = loaded_vectorizer_joblib.transform(new_documents)",
   "id": "9adb8b2f3f3321ba",
   "outputs": [],
   "execution_count": 5
  },
  {
   "metadata": {
    "ExecuteTime": {
     "end_time": "2024-11-25T05:39:23.956702Z",
     "start_time": "2024-11-25T05:39:23.948584Z"
    }
   },
   "cell_type": "code",
   "source": "",
   "id": "da93a0035c7bf069",
   "outputs": [
    {
     "data": {
      "text/plain": [
       "<Compressed Sparse Row sparse matrix of dtype 'float64'\n",
       "\twith 3 stored elements and shape (2, 12338)>"
      ]
     },
     "execution_count": 6,
     "metadata": {},
     "output_type": "execute_result"
    }
   ],
   "execution_count": 6
  }
 ],
 "metadata": {
  "kernelspec": {
   "display_name": "Python 3",
   "language": "python",
   "name": "python3"
  },
  "language_info": {
   "codemirror_mode": {
    "name": "ipython",
    "version": 2
   },
   "file_extension": ".py",
   "mimetype": "text/x-python",
   "name": "python",
   "nbconvert_exporter": "python",
   "pygments_lexer": "ipython2",
   "version": "2.7.6"
  }
 },
 "nbformat": 4,
 "nbformat_minor": 5
}
